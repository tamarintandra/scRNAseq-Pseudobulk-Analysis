{
 "cells": [
  {
   "cell_type": "code",
   "execution_count": null,
   "metadata": {},
   "outputs": [],
   "source": [
    "import scanpy as sc\n",
    "import pandas as pd\n",
    "import numpy as np"
   ]
  },
  {
   "cell_type": "code",
   "execution_count": null,
   "metadata": {},
   "outputs": [],
   "source": [
    "adata = sc.read_h5ad('GSE174188_CLUES1_adjusted.h5ad')\n",
    "adata"
   ]
  },
  {
   "cell_type": "code",
   "execution_count": null,
   "metadata": {},
   "outputs": [],
   "source": [
    "adata = adata.raw.to_adata()\n",
    "# Filter out cells with fewer than 500 counts\n",
    "sc.pp.filter_cells(adata, min_counts=500)\n",
    "\n",
    "# Filter out cells that express fewer than 200 genes\n",
    "sc.pp.filter_cells(adata, min_genes=200)\n",
    "\n",
    "# Filter out genes expressed in fewer than 5% of cells\n",
    "sc.pp.filter_genes(adata, min_cells=int(0.05 * adata.shape[0]))\n",
    "adata"
   ]
  },
  {
   "cell_type": "code",
   "execution_count": null,
   "metadata": {},
   "outputs": [],
   "source": [
    "adata.var['mt'] = adata.var_names.str.startswith('MT-')  # annotate the group of mitochondrial genes as 'mt'\n",
    "sc.pp.calculate_qc_metrics(adata, qc_vars=['mt'], percent_top=None, log1p=False, inplace=True)"
   ]
  },
  {
   "cell_type": "code",
   "execution_count": null,
   "metadata": {},
   "outputs": [],
   "source": [
    "adata = adata[adata.obs.n_genes_by_counts < 2500, :]\n",
    "adata = adata[adata.obs.pct_counts_mt < 5, :]\n",
    "adata"
   ]
  },
  {
   "cell_type": "code",
   "execution_count": null,
   "metadata": {},
   "outputs": [],
   "source": [
    "# Display all cell types\n",
    "cell_types = adata.obs['cg_cov'].unique()\n",
    "cell_types"
   ]
  },
  {
   "cell_type": "code",
   "execution_count": null,
   "metadata": {},
   "outputs": [],
   "source": [
    "# Subset data by cell type\n",
    "cell_subset = adata[adata.obs['cg_cov'] == 'B']\n",
    "cell_subset"
   ]
  },
  {
   "cell_type": "code",
   "execution_count": null,
   "metadata": {},
   "outputs": [],
   "source": [
    "pbs = []\n",
    "\n",
    "for sample in cell_subset.obs.ind_cov.unique():\n",
    "    # Filter cells based on the sample ID\n",
    "    samp_cell_subset = cell_subset[cell_subset.obs['ind_cov'] == sample]\n",
    "    \n",
    "    # Sum the total counts for each gene across all cells within the same pseudobulk\n",
    "    total_counts_per_gene = samp_cell_subset.X.sum(axis=0)\n",
    "\n",
    "    pseudobulk_counts = pd.DataFrame(index=cell_subset.var_names)\n",
    "    # Append the total counts to the pseudobulk_counts DataFrame\n",
    "    pseudobulk_counts[sample] = total_counts_per_gene.A1  # A1 is used to flatten the matrix to 1D array\n",
    "\n",
    "    # Sum all the counts for all genes in the array\n",
    "    total_counts_all_genes = pseudobulk_counts[sample].sum(axis=0)\n",
    "\n",
    "    # # Normalize the counts for each gene by dividing the count for each gene by the total count for all genes in the pseudobulk\n",
    "    normalized_counts = pseudobulk_counts.divide(total_counts_all_genes)\n",
    "\n",
    "    # Calculate Counts Per Million (CPM)\n",
    "    CPM = normalized_counts * 1_000_000\n",
    "\n",
    "    # Log2-transform the CPM values after adding 1 to avoid log(0) issues\n",
    "    log2_CPM = np.log2(CPM + 1)\n",
    "\n",
    "    # Create a new AnnData object with log2_CPM\n",
    "    rep_adata = sc.AnnData(X=log2_CPM.T,\n",
    "                           var=samp_cell_subset.var[[]])\n",
    "\n",
    "    # Assign the sample ID as the observation name\n",
    "    rep_adata.obs_names = [sample]\n",
    "\n",
    "    # Assign the 'SLE_status' annotation based on the first cell's 'SLE_status' in the current sample\n",
    "    rep_adata.obs['SLE_status'] = samp_cell_subset.obs['SLE_status'].iloc[0]\n",
    "\n",
    "    # Append the representative AnnData object to the list pbs\n",
    "    pbs.append(rep_adata)"
   ]
  },
  {
   "cell_type": "code",
   "execution_count": null,
   "metadata": {},
   "outputs": [],
   "source": [
    "pb = sc.concat(pbs)"
   ]
  },
  {
   "cell_type": "code",
   "execution_count": null,
   "metadata": {},
   "outputs": [],
   "source": [
    "# View pseudobulk samples\n",
    "pb\n",
    "pb.obs\n",
    "pb.var"
   ]
  },
  {
   "cell_type": "code",
   "execution_count": null,
   "metadata": {},
   "outputs": [],
   "source": [
    "# Perform differential analysis\n",
    "sc.tl.rank_genes_groups(pb, groupby='SLE_status', method='wilcoxon', groups=['SLE', 'Healthy'])"
   ]
  },
  {
   "cell_type": "code",
   "execution_count": null,
   "metadata": {},
   "outputs": [],
   "source": [
    "# Access the result\n",
    "result_df = sc.get.rank_genes_groups_df(pb, group='Healthy', key='rank_genes_groups')\n",
    "result_df.to_csv('B_pseudobulk_result.tsv', sep='\\t', index=False)"
   ]
  }
 ],
 "metadata": {
  "kernelspec": {
   "display_name": "Python 3",
   "language": "python",
   "name": "python3"
  },
  "language_info": {
   "name": "python",
   "version": "3.8.6"
  }
 },
 "nbformat": 4,
 "nbformat_minor": 2
}
